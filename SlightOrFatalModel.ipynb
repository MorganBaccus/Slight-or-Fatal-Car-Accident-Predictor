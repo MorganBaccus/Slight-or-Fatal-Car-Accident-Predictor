{
  "nbformat": 4,
  "nbformat_minor": 0,
  "metadata": {
    "accelerator": "GPU",
    "colab": {
      "name": "SlightOrFatalModel",
      "provenance": [],
      "collapsed_sections": [],
      "include_colab_link": true
    },
    "kernelspec": {
      "display_name": "Python 3",
      "name": "python3"
    },
    "language_info": {
      "name": "python"
    }
  },
  "cells": [
    {
      "cell_type": "markdown",
      "metadata": {
        "id": "view-in-github",
        "colab_type": "text"
      },
      "source": [
        "<a href=\"https://colab.research.google.com/github/MorganBaccus/Slight-or-Fatal-Car-Accident-Predictor/blob/main/SlightOrFatalModel.ipynb\" target=\"_parent\"><img src=\"https://colab.research.google.com/assets/colab-badge.svg\" alt=\"Open In Colab\"/></a>"
      ]
    },
    {
      "cell_type": "code",
      "metadata": {
        "colab": {
          "base_uri": "https://localhost:8080/",
          "height": 1000
        },
        "id": "bOTpUY-lDYis",
        "outputId": "e7f8e021-25bd-4bd6-b52f-80e344bb7503"
      },
      "source": [
        "# DATA CLASS IMBALANCES\n",
        "# 189016 slight\n",
        "# 62815 Fatal\n",
        "\n",
        "import numpy as np\n",
        "from sklearn import metrics\n",
        "from sklearn.model_selection import train_test_split\n",
        "from sklearn.tree import DecisionTreeClassifier\n",
        "import pandas as pd\n",
        "from sklearn.ensemble import AdaBoostClassifier\n",
        "from sklearn.ensemble import RandomForestClassifier\n",
        "from sklearn.neighbors import KNeighborsClassifier\n",
        "from sklearn.ensemble import VotingClassifier\n",
        "from sklearn.preprocessing import OneHotEncoder\n",
        "from sklearn.preprocessing import OrdinalEncoder\n",
        "from imblearn.over_sampling import RandomOverSampler\n",
        "from imblearn.under_sampling import RandomUnderSampler\n",
        "from sklearn.metrics import accuracy_score, confusion_matrix\n",
        "import seaborn as sns\n",
        "import os\n",
        "import matplotlib.pyplot as plt\n",
        "from sklearn.model_selection import cross_val_score\n",
        "from sklearn.linear_model import LogisticRegression\n",
        "from sklearn.neural_network import MLPClassifier\n",
        "from sklearn.naive_bayes import GaussianNB\n",
        "from scipy.stats import ttest_1samp\n",
        "\n",
        "\n",
        "\n",
        "from google.colab import drive\n",
        "drive.mount('/content/gdrive')\n",
        "\n",
        "# Read a data file in csv format, separate into features and class arrays\n",
        "def read_data():\n",
        "   data = pd.read_csv('/content/gdrive/My Drive/Accidents_categorical.csv') \n",
        "   data = data.values.tolist()\n",
        "   X = []\n",
        "   y = []\n",
        "   for i in range(len(data) - 1):\n",
        "      X.append(data[i][:-1])   # features are all values but the last on the line\n",
        "      y.append(data[i][-1])    # class is the last value on the line\n",
        "   return X, y\n",
        "\n",
        "def plot_confusionmatrix(newlabels,y_test):\n",
        "  print(f'Confusion matrix')\n",
        "  cf = confusion_matrix(newlabels,y_test)\n",
        "  classes = ['Fatal', 'Slight']\n",
        "  sns.heatmap(cf,annot=True,yticklabels=classes\n",
        "              ,xticklabels=classes,cmap='Blues', fmt='g')\n",
        "  plt.tight_layout()\n",
        "  plt.show()\n",
        "\n",
        "#def plot_metrics(predict_proba, testy):\n",
        "  \n",
        "\n",
        "if __name__ == \"__main__\":\n",
        "  #read in csv file\n",
        "  X, y = read_data() \n",
        "\n",
        "  #transform data by encoding strings\n",
        "  enc = OrdinalEncoder()\n",
        "  enc = enc.fit_transform(X)\n",
        "\n",
        "  #enc = OneHotencoder()\n",
        "  #enc.fit_transform(X)\n",
        "\n",
        "  #Classifiers\n",
        "  clf1 = DecisionTreeClassifier(criterion='entropy')\n",
        "  clf2 = LogisticRegression(multi_class='auto', solver='lbfgs')\n",
        "  clf3 = AdaBoostClassifier(clf1, learning_rate=0.25)\n",
        "  clf4 = RandomForestClassifier(n_estimators=100)\n",
        "  clf5 = KNeighborsClassifier()\n",
        "  clf6 = MLPClassifier(activation='relu', early_stopping=True)\n",
        "  clf7 = AdaBoostClassifier(clf4, learning_rate=0.25)\n",
        "  clf8 = GaussianNB()\n",
        "  clf10 = VotingClassifier(estimators=[('clf1',clf1), ('clf2', clf2), ('clf3', clf3), ('clf4', clf4), ('clf5', clf5), ('clf6', clf6), ('clf7', clf7), ('clf8', clf8)])\n",
        "\n",
        "  classifiers = [\n",
        "    (clf1, \"Decision Tree\"),\n",
        "    (clf2, \"Logistic Regression\"),\n",
        "    (clf3, \"AdaBoostDT(lr=0.25)\"),\n",
        "    (clf4, \"Random Forest\"),\n",
        "    (clf5, \"KNN (k=5)\"),\n",
        "    (clf6, \"MLP (Activation=relu)\"),\n",
        "    (clf7, \"Boosted Forest\"),\n",
        "    (clf8, \"NBC\"),\n",
        "    (clf10, \"Voting\")\n",
        "  ]\n",
        "\n",
        "  #Tracking all F1 scores to determine which alg performs best\n",
        "  AllF1 = []\n",
        "  cvs = []\n",
        "\n",
        "  #training classifiers on the normal dataset\n",
        "  for clf, name in classifiers:\n",
        "    F1_Scores = []\n",
        "    acc_scores = []\n",
        "    prec_scores = []\n",
        "    rec_scores = []\n",
        "    print(\"Classifier: \", name)\n",
        "    for i in range(3):\n",
        "      #Splitting data to train and test data using encoded data\n",
        "      X_train, X_test, y_train, y_test = train_test_split(enc, y, test_size=0.33, random_state=3)\n",
        "      clf.fit(X_train, y_train)\n",
        "      newlabels = clf.predict(X_test)\n",
        "      acc_scores.append(metrics.accuracy_score(y_test, newlabels))\n",
        "      F1_Scores.append(metrics.f1_score(y_test, newlabels, pos_label=\"Slight\"))\n",
        "      prec_scores.append(metrics.precision_score(y_test, newlabels, pos_label=\"Slight\"))\n",
        "      rec_scores.append(metrics.recall_score(y_test, newlabels, pos_label=\"Slight\"))\n",
        "    AllF1.append(np.mean(F1_Scores))\n",
        "    cv = np.mean(cross_val_score(clf, X_train, y_train))\n",
        "    cvs.append(cv)\n",
        "    print(\"F1 Score: \", np.mean(F1_Scores), \"\\n\")\n",
        "    print(\"Accuracy: \", np.mean(acc_scores), \"\\n\")\n",
        "    print(\"Precision: \", np.mean(prec_scores))\n",
        "    print(\"Recall: \", np.mean(rec_scores))\n",
        "    print(\"Cross-Val Score: \", cv, \"\\n\")\n",
        "    plot_confusionmatrix(newlabels, y_test)\n",
        "    print(\"\\n\\n\\n\\n\")\n",
        "\n",
        "\n",
        "  print(\"\\n\\nBest F1 Score is: \", max(F1_Scores))\n",
        "  print(\"From the \", classifiers[F1_Scores.index(max(F1_Scores))][1], \"classifier\")\n",
        "\n",
        "  print(\"Best Cross-Val-Score is: \", max(cvs))\n",
        "  print(\"From the \", classifiers[cvs.index(max(cvs))][1], \"classifier\\n\\n\")\n",
        "\n",
        "\n",
        "  for i in range(len(AllF1)):\n",
        "    t_score, p_value = ttest_1samp(AllF1, AllF1[i])\n",
        "    print(classifiers[i][1], \"::  T Statistic = \", t_score, \"P Value = \", p_value)\n"
      ],
      "execution_count": null,
      "outputs": [
        {
          "output_type": "stream",
          "name": "stderr",
          "text": [
            "/usr/local/lib/python3.7/dist-packages/sklearn/externals/six.py:31: FutureWarning: The module is deprecated in version 0.21 and will be removed in version 0.23 since we've dropped support for Python 2.7. Please rely on the official version of six (https://pypi.org/project/six/).\n",
            "  \"(https://pypi.org/project/six/).\", FutureWarning)\n",
            "/usr/local/lib/python3.7/dist-packages/sklearn/utils/deprecation.py:144: FutureWarning: The sklearn.neighbors.base module is  deprecated in version 0.22 and will be removed in version 0.24. The corresponding classes / functions should instead be imported from sklearn.neighbors. Anything that cannot be imported from sklearn.neighbors is now part of the private API.\n",
            "  warnings.warn(message, FutureWarning)\n"
          ]
        },
        {
          "output_type": "stream",
          "name": "stdout",
          "text": [
            "Mounted at /content/gdrive\n",
            "Classifier:  Decision Tree\n",
            "F1 Score:  0.9310649760170505 \n",
            "\n",
            "Accuracy:  0.8963118945911798 \n",
            "\n",
            "Precision:  0.9289867443827816\n",
            "Recall:  0.9331526648599819\n",
            "Cross-Val Score:  0.893875279485224 \n",
            "\n",
            "Confusion matrix\n"
          ]
        },
        {
          "output_type": "display_data",
          "data": {
            "image/png": "[encoded data removed]",
            "text/plain": [
              "<Figure size 432x288 with 2 Axes>"
            ]
          },
          "metadata": {
            "needs_background": "light"
          }
        },
        {
          "output_type": "stream",
          "name": "stdout",
          "text": [
            "\n",
            "\n",
            "\n",
            "\n",
            "\n",
            "Classifier:  Logistic Regression\n",
            "F1 Score:  0.836389493417225 \n",
            "\n",
            "Accuracy:  0.7259009686541122 \n",
            "\n",
            "Precision:  0.7574740457419405\n",
            "Recall:  0.9336604608649637\n",
            "Cross-Val Score:  0.7247312241555777 \n",
            "\n",
            "Confusion matrix\n"
          ]
        },
        {
          "output_type": "display_data",
          "data": {
            "image/png": "[encoded data removed]",
            "text/plain": [
              "<Figure size 432x288 with 2 Axes>"
            ]
          },
          "metadata": {
            "needs_background": "light"
          }
        },
        {
          "output_type": "stream",
          "name": "stdout",
          "text": [
            "\n",
            "\n",
            "\n",
            "\n",
            "\n",
            "Classifier:  AdaBoostDT(lr=0.25)\n",
            "F1 Score:  0.9314873240998706 \n",
            "\n",
            "Accuracy:  0.8969295870685677 \n",
            "\n",
            "Precision:  0.9292504504503037\n",
            "Recall:  0.9337352939604346\n",
            "Cross-Val Score:  0.8946457622451505 \n",
            "\n",
            "Confusion matrix\n"
          ]
        },
        {
          "output_type": "display_data",
          "data": {
            "image/png": "[encoded data removed]",
            "text/plain": [
              "<Figure size 432x288 with 2 Axes>"
            ]
          },
          "metadata": {
            "needs_background": "light"
          }
        },
        {
          "output_type": "stream",
          "name": "stdout",
          "text": [
            "\n",
            "\n",
            "\n",
            "\n",
            "\n",
            "Classifier:  Random Forest\n",
            "F1 Score:  0.9485845148249813 \n",
            "\n",
            "Accuracy:  0.9260453642981769 \n",
            "\n",
            "Precision:  0.9916047648732976\n",
            "Recall:  0.909141931656003\n",
            "Cross-Val Score:  0.9252397427420032 \n",
            "\n",
            "Confusion matrix\n"
          ]
        },
        {
          "output_type": "display_data",
          "data": {
            "image/png": "[encoded data removed]",
            "text/plain": [
              "<Figure size 432x288 with 2 Axes>"
            ]
          },
          "metadata": {
            "needs_background": "light"
          }
        },
        {
          "output_type": "stream",
          "name": "stdout",
          "text": [
            "\n",
            "\n",
            "\n",
            "\n",
            "\n",
            "Classifier:  KNN (k=5)\n",
            "F1 Score:  0.8980049994427373 \n",
            "\n",
            "Accuracy:  0.8458335840202155 \n",
            "\n",
            "Precision:  0.8916731222234519\n",
            "Recall:  0.9044274466413303\n",
            "Cross-Val Score:  0.8446593889239598 \n",
            "\n",
            "Confusion matrix\n"
          ]
        },
        {
          "output_type": "display_data",
          "data": {
            "image/png": "[encoded data removed]",
            "text/plain": [
              "<Figure size 432x288 with 2 Axes>"
            ]
          },
          "metadata": {
            "needs_background": "light"
          }
        },
        {
          "output_type": "stream",
          "name": "stdout",
          "text": [
            "\n",
            "\n",
            "\n",
            "\n",
            "\n",
            "Classifier:  MLP (Activation=relu)\n",
            "F1 Score:  0.9187119284622769 \n",
            "\n",
            "Accuracy:  0.8820929346409162 \n",
            "\n",
            "Precision:  0.9507294067647517\n",
            "Recall:  0.8892363282607185\n",
            "Cross-Val Score:  0.8654091438523016 \n",
            "\n",
            "Confusion matrix\n"
          ]
        },
        {
          "output_type": "display_data",
          "data": {
            "image/png": "[encoded data removed]",
            "text/plain": [
              "<Figure size 432x288 with 2 Axes>"
            ]
          },
          "metadata": {
            "needs_background": "light"
          }
        },
        {
          "output_type": "stream",
          "name": "stdout",
          "text": [
            "\n",
            "\n",
            "\n",
            "\n",
            "\n",
            "Classifier:  Boosted Forest\n",
            "F1 Score:  0.9485234323722346 \n",
            "\n",
            "Accuracy:  0.9259731664761447 \n",
            "\n",
            "Precision:  0.9917702010857946\n",
            "Recall:  0.9088907062640645\n",
            "Cross-Val Score:  0.9251864065995294 \n",
            "\n",
            "Confusion matrix\n"
          ]
        },
        {
          "output_type": "display_data",
          "data": {
            "image/png": "[encoded data removed]",
            "text/plain": [
              "<Figure size 432x288 with 2 Axes>"
            ]
          },
          "metadata": {
            "needs_background": "light"
          }
        },
        {
          "output_type": "stream",
          "name": "stdout",
          "text": [
            "\n",
            "\n",
            "\n",
            "\n",
            "\n",
            "Classifier:  NBC\n",
            "F1 Score:  0.8882723418268638 \n",
            "\n",
            "Accuracy:  0.8367005595331207 \n",
            "\n",
            "Precision:  0.9127470221981592\n",
            "Recall:  0.8650759288657975\n",
            "Cross-Val Score:  0.8360004006818758 \n",
            "\n",
            "Confusion matrix\n"
          ]
        },
        {
          "output_type": "display_data",
          "data": {
            "image/png": "[encoded data removed]",
            "text/plain": [
              "<Figure size 432x288 with 2 Axes>"
            ]
          },
          "metadata": {
            "needs_background": "light"
          }
        },
        {
          "output_type": "stream",
          "name": "stdout",
          "text": [
            "\n",
            "\n",
            "\n",
            "\n",
            "\n",
            "Classifier:  Voting\n",
            "F1 Score:  0.9453787815125647 \n",
            "\n",
            "Accuracy:  0.920955417844895 \n",
            "\n",
            "Precision:  0.981779679712612\n",
            "Recall:  0.9115846977010205\n",
            "Cross-Val Score:  0.9201190111580875 \n",
            "\n",
            "Confusion matrix\n"
          ]
        },
        {
          "output_type": "display_data",
          "data": {
            "image/png": "[encoded data removed]",
            "text/plain": [
              "<Figure size 432x288 with 2 Axes>"
            ]
          },
          "metadata": {
            "needs_background": "light"
          }
        },
        {
          "output_type": "stream",
          "name": "stdout",
          "text": [
            "\n",
            "\n",
            "\n",
            "\n",
            "\n",
            "\n",
            "\n",
            "Best F1 Score is:  0.9458311117035456\n",
            "From the  Decision Tree classifier\n",
            "Best Cross-Val-Score is:  0.9252397427420032\n",
            "From the  Random Forest classifier\n",
            "\n",
            "\n",
            "Decision Tree ::  T Statistic =  -1.2032991918322888 P Value =  0.26325783954691845\n",
            "Logistic Regression ::  T Statistic =  6.496104155211241 P Value =  0.00018887809565694172\n",
            "AdaBoostDT(lr=0.25) ::  T Statistic =  -1.2376462915584863 P Value =  0.25093795201001506\n",
            "Random Forest ::  T Statistic =  -2.628060830561869 P Value =  0.03026918166144578\n",
            "KNN (k=5) ::  T Statistic =  1.4852753715036824 P Value =  0.1757729781058585\n",
            "MLP (Activation=relu) ::  T Statistic =  -0.19869807359529318 P Value =  0.8474556946802609\n",
            "Boosted Forest ::  T Statistic =  -2.6230933518840835 P Value =  0.03050357178840948\n",
            "NBC ::  T Statistic =  2.276775499789516 P Value =  0.052334056908981706\n",
            "Voting ::  T Statistic =  -2.36735728707241 P Value =  0.045433445587245276\n"
          ]
        }
      ]
    },
    {
      "cell_type": "code",
      "metadata": {
        "colab": {
          "base_uri": "https://localhost:8080/"
        },
        "id": "R3XAo2KsVhXt",
        "outputId": "a4c37792-2705-4630-a4de-777288be58c9"
      },
      "source": [
        "import math\n",
        "import copy\n",
        "import numpy as np\n",
        "import collections\n",
        "import random\n",
        "from random import sample\n",
        "import matplotlib\n",
        "import matplotlib.pyplot as plt\n",
        "import pandas as pd\n",
        "from sklearn.metrics import accuracy_score,confusion_matrix\n",
        "\n",
        "from google.colab import drive\n",
        "drive.mount('/content/gdrive')\n",
        "\n",
        "class TreeNode:\n",
        "    def __init__(self, majClass):\n",
        "        self.split_feature = -1\n",
        "        self.children = {} \n",
        "        self.majority_class = majClass\n",
        "        \n",
        "def build_tree(examples):\n",
        "    features = {}\n",
        "    for feature_index in range(len(examples[0]) - 1):\n",
        "        features[feature_index] = set([example[feature_index] for example in examples])\n",
        "    return build_tree_1(examples, features)\n",
        "    \n",
        "def build_tree_1(examples, features):\n",
        "    tree_node = TreeNode(majority_class(examples))\n",
        "    if same_class(examples):\n",
        "        return tree_node\n",
        "    if not features:\n",
        "        return tree_node\n",
        "    best_feature_index = best_feature(features, examples)\n",
        "    tree_node.split_feature = best_feature_index\n",
        "    remaining_features = features.copy()\n",
        "    remaining_features.pop(best_feature_index)\n",
        "    for feature_value in features[best_feature_index]:\n",
        "        split_examples = filter_examples(examples, best_feature_index, feature_value)\n",
        "        tree_node.children[feature_value] = build_tree_1(split_examples, remaining_features)\n",
        "    return tree_node\n",
        "\n",
        "def majority_class(examples):\n",
        "    return \"S\"\n",
        "\n",
        "def same_class(examples):\n",
        "    classes = [example[-1] for example in examples]\n",
        "    return (len(set(classes)) == 1)\n",
        "\n",
        "def best_feature(features, examples):\n",
        "    best_feature_index = -1\n",
        "    best_entropy = 2.0 \n",
        "    for feature_index in features:\n",
        "        se = split_entropy(feature_index, features, examples)\n",
        "        if se < best_entropy:\n",
        "            best_entropy = se\n",
        "            best_feature_index = feature_index\n",
        "    return best_feature_index\n",
        "\n",
        "def split_entropy(feature_index, features, examples):\n",
        "    se = 0.0\n",
        "    for feature_value in features[feature_index]:\n",
        "        split_examples = filter_examples(examples, feature_index, feature_value)\n",
        "        if len(examples) != 0:\n",
        "          se += (float(len(split_examples)) / float(len(examples))) * entropy(split_examples)\n",
        "    return se\n",
        "\n",
        "def entropy(examples):\n",
        "    classes = [example[-1] for example in examples]\n",
        "    classes_set = set(classes)\n",
        "    class_counts = [classes.count(c) for c in classes_set]\n",
        "    e = 0.0\n",
        "    class_sum = sum(class_counts)\n",
        "    for class_count in class_counts:\n",
        "        if class_count > 0:\n",
        "            class_frac = float(class_count) / float(class_sum)\n",
        "            e += (-1.0)* class_frac * math.log(class_frac, 2.0)\n",
        "    return e\n",
        "\n",
        "def filter_examples(examples, feature_index, feature_value):\n",
        "    return list(filter(lambda example: example[feature_index] == feature_value, examples))\n",
        "\n",
        "def print_tree(tree_node, feature_names, depth = 1):\n",
        "    indent_space = depth * \"  \"\n",
        "    if tree_node.split_feature == -1: \n",
        "        print(indent_space + feature_names[-1] + \": \" + tree_node.majority_class)\n",
        "    else:\n",
        "        for feature_value in tree_node.children:\n",
        "            print(indent_space + feature_names[tree_node.split_feature] + \" == \" + feature_value)\n",
        "            child_node = tree_node.children[feature_value]\n",
        "            if child_node:\n",
        "                print_tree(child_node, feature_names, depth+1)\n",
        "            else:\n",
        "                print(indent_space + \"  \" + feature_names[-1] + \": \" + tree_node.majority_class)\n",
        "\n",
        "def classify(tree_node, instance):\n",
        "    if tree_node.split_feature == -1:\n",
        "        return tree_node.majority_class\n",
        "    child_node = tree_node.children[instance[tree_node.split_feature]]\n",
        "    if child_node:\n",
        "        return classify(child_node, instance)\n",
        "    else:\n",
        "        return tree_node.majority_class\n",
        "\n",
        "def makeDiscrete(data):\n",
        "  midPoint = len(data) / 2\n",
        "  sortedValues = copy.copy(data) \n",
        "  sortedValues.sort()\n",
        "  threshold = sortedValues[int(midPoint)]\n",
        "\n",
        "  binnedData = np.zeros(len(data), dtype=int)\n",
        "\n",
        "  for i in range(len(data)): \n",
        "    if (data[i] <= threshold):\n",
        "      binnedData[i]=0 \n",
        "    else:\n",
        "        binnedData[i]=1 \n",
        "  return binnedData\n",
        "\n",
        "\n",
        "if __name__ == \"__main__\":\n",
        "   random.seed()\n",
        "   \n",
        "   dataFrame = pd.read_csv('/content/gdrive/My Drive/Accidents_categorical.csv')\n",
        "   data = dataFrame.to_numpy()\n",
        "  \n",
        "   examples = np.zeros(np.shape(data), dtype=str)\n",
        "   for i in range(len(data[0])-1):\n",
        "     examples[:,i] = makeDiscrete(data[:,i])\n",
        "\n",
        "   for i in range(len(data)):\n",
        "     examples[i][len(data[0])-1] = str(data[i][len(data[0])-1])\n",
        "   \n",
        "   print(examples)\n",
        "   \n",
        "   sampleData = []\n",
        "   output = []\n",
        "   numberOfTrials = 10\n",
        "\n",
        "   for trials in range(numberOfTrials):\n",
        "      count = 0\n",
        "\n",
        "      for i in range(1, 500, 50):\n",
        "         testSet = sample(list(examples), 100)\n",
        "         trainSet = sample(list(examples), i)\n",
        "         tree = build_tree(trainSet)\n",
        "         right = 0\n",
        "\n",
        "         for j in range(100):\n",
        "            testClass = classify(tree, testSet[j])\n",
        "            if testClass == testSet[j][len(data[0])-1]:\n",
        "               right += 1\n",
        "         if trials == 0:\n",
        "            sampleData.append(i)\n",
        "            output.append(right)\n",
        "         else:\n",
        "            output[count] += right\n",
        "         count += 1\n",
        "\n",
        "\n",
        "   for i in range(len(output)):\n",
        "      output[i] = output[i] / float(numberOfTrials)\n",
        "    \n",
        "   print(\"Decision Tree Accuracy is: \", np.mean(output))\n",
        "    "
      ],
      "execution_count": null,
      "outputs": [
        {
          "output_type": "stream",
          "text": [
            "Drive already mounted at /content/gdrive; to attempt to forcibly remount, call drive.mount(\"/content/gdrive\", force_remount=True).\n",
            "[['0' '0' '1' ... '1' '0' 'S']\n",
            " ['0' '0' '1' ... '1' '0' 'S']\n",
            " ['0' '0' '1' ... '0' '0' 'S']\n",
            " ...\n",
            " ['1' '1' '0' ... '1' '0' 'F']\n",
            " ['1' '1' '0' ... '1' '0' 'F']\n",
            " ['1' '1' '0' ... '0' '0' 'F']]\n",
            "Decision Tree Accuracy is:  75.03999999999999\n"
          ],
          "name": "stdout"
        }
      ]
    }
  ]
}